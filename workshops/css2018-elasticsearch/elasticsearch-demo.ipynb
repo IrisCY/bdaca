{
 "cells": [
  {
   "cell_type": "markdown",
   "metadata": {},
   "source": [
    "# Elasticsearch Demo\n",
    "\n",
    "*by Damian Trilling*\n",
    "\n",
    "http://www.damiantrilling.net\n",
    "\n",
    "I created this demo in a pristine Lubuntu 18.04 installation in a VirtualBox.\n",
    "\n",
    "The only steps I did were:\n",
    "\n",
    "\n",
    "1. Install git and clone my teaching repo (to make this doc)\n",
    "```\n",
    "sudo apt-get install git\n",
    "git clone https://github.com/damian0604/bdaca\n",
    "```\n",
    "\n",
    "2. Install Java (a prerequisite for elasticsearch):\n",
    "```\n",
    "sudo apt-get install openjdk-8-jre-headless```\n",
    "```\n",
    "\n",
    "3. Install Elasticsearch by copy-pasting the commands from https://www.elastic.co/guide/en/elasticsearch/reference/current/install-elasticsearch.html\n",
    "\n",
    "4. Start elastic search with\n",
    "```\n",
    "sudo service elasticsearch start\n",
    "```\n",
    "\n",
    "5. Install Jupyter Notebook and the Python-wrapper for Elasticsearch\n",
    "\n",
    "```\n",
    "sudo apt-get install jupyter-notebook\n",
    "sudo pip3 install elasticsearch\n",
    "```\n",
    "\n",
    "6. Start Jupyer notebook with ```jupyter-notebook```."
   ]
  },
  {
   "cell_type": "markdown",
   "metadata": {},
   "source": [
    "## Interacting with Elasticserach\n",
    "\n",
    "You can interact with Elasticsearch via curl, and that can be cool for diagnosis and for some ad-hoc repairs, but we're not masocistic and will use Python to interact with it. Because ES in fact communicates with you through JSON-objects, you can just throw Python-dicts at it and receive Python-dicts back. That's cool!"
   ]
  },
  {
   "cell_type": "code",
   "execution_count": 7,
   "metadata": {},
   "outputs": [],
   "source": [
    "from elasticsearch import Elasticsearch\n",
    "import json"
   ]
  },
  {
   "cell_type": "code",
   "execution_count": 3,
   "metadata": {},
   "outputs": [],
   "source": [
    "client = Elasticsearch()"
   ]
  },
  {
   "cell_type": "code",
   "execution_count": 5,
   "metadata": {},
   "outputs": [
    {
     "data": {
      "text/plain": [
       "False"
      ]
     },
     "execution_count": 5,
     "metadata": {},
     "output_type": "execute_result"
    }
   ],
   "source": [
    "client.indices.exists('test')"
   ]
  },
  {
   "cell_type": "code",
   "execution_count": 32,
   "metadata": {},
   "outputs": [
    {
     "data": {
      "text/plain": [
       "{'acknowledged': True, 'index': 'test', 'shards_acknowledged': True}"
      ]
     },
     "execution_count": 32,
     "metadata": {},
     "output_type": "execute_result"
    }
   ],
   "source": [
    "client.indices.create(\"test\")"
   ]
  },
  {
   "cell_type": "code",
   "execution_count": 31,
   "metadata": {},
   "outputs": [
    {
     "data": {
      "text/plain": [
       "{'acknowledged': True}"
      ]
     },
     "execution_count": 31,
     "metadata": {},
     "output_type": "execute_result"
    }
   ],
   "source": [
    "client.indices.delete('test')"
   ]
  },
  {
   "cell_type": "code",
   "execution_count": null,
   "metadata": {},
   "outputs": [],
   "source": [
    "client.indices.exists('test')"
   ]
  },
  {
   "cell_type": "markdown",
   "metadata": {},
   "source": [
    "client.indices.create(\"test\")"
   ]
  },
  {
   "cell_type": "markdown",
   "metadata": {},
   "source": [
    "## Inserting documents\n",
    "\n",
    "There are helpers for bulk insert, but that's not important for now..."
   ]
  },
  {
   "cell_type": "code",
   "execution_count": 79,
   "metadata": {},
   "outputs": [],
   "source": [
    "docs = [{'text': 'Some weird text, whatetever',\n",
    "         'title': 'Some title',\n",
    "        'shared':22},\n",
    "        {'text':'Another text, well we know how this looks like',\n",
    "        'title':'it has a title too',\n",
    "        'is_paywalled':True},\n",
    "        {'title':'Shorty',\n",
    "        'shared':1,\n",
    "        'source':'http://example.com/whatever'}\n",
    "        ]"
   ]
  },
  {
   "cell_type": "code",
   "execution_count": 80,
   "metadata": {},
   "outputs": [],
   "source": [
    "for doc in docs:\n",
    "    client.index('test',doc_type='article',body=doc)"
   ]
  },
  {
   "cell_type": "markdown",
   "metadata": {},
   "source": [
    "## Elasticsearch and schemas\n",
    "As we have seen, we didn't need to specify any schema, but could get started right away. In SQL, we would have to decide on columns and datatypes in advance, like this.\n",
    "\n",
    "```\n",
    "CREATE TABLE articles (\n",
    "    shared int,\n",
    "    title varchar(255),\n",
    "    ...\n",
    "    ...\n",
    "    ...\n",
    ");\n",
    "```\n",
    "\n",
    "Elasticsearch does not require this. This is especially nice if newly inserted documents suddenly have new additional keys (e.g., the key 'source' in the last doc above)., \n",
    "\n",
    "**How does this work?**\n",
    "\n",
    "Well, let's try it out:"
   ]
  },
  {
   "cell_type": "code",
   "execution_count": 38,
   "metadata": {
    "collapsed": true
   },
   "outputs": [
    {
     "name": "stderr",
     "output_type": "stream",
     "text": [
      "POST http://localhost:9200/test/article [status:400 request:0.009s]\n"
     ]
    },
    {
     "ename": "RequestError",
     "evalue": "RequestError(400, 'mapper_parsing_exception', 'failed to parse field [shared] of type [long]')",
     "output_type": "error",
     "traceback": [
      "\u001b[0;31m---------------------------------------------------------------------------\u001b[0m",
      "\u001b[0;31mRequestError\u001b[0m                              Traceback (most recent call last)",
      "\u001b[0;32m<ipython-input-38-5d1c385101a8>\u001b[0m in \u001b[0;36m<module>\u001b[0;34m()\u001b[0m\n\u001b[1;32m      1\u001b[0m \u001b[0;31m# this will fail...\u001b[0m\u001b[0;34m\u001b[0m\u001b[0;34m\u001b[0m\u001b[0;34m\u001b[0m\u001b[0m\n\u001b[1;32m      2\u001b[0m \u001b[0mnewdoc\u001b[0m \u001b[0;34m=\u001b[0m \u001b[0;34m{\u001b[0m\u001b[0;34m'title'\u001b[0m\u001b[0;34m:\u001b[0m \u001b[0;34m'Tekjkje kklegjekjgekjg'\u001b[0m\u001b[0;34m,\u001b[0m \u001b[0;34m'shared'\u001b[0m\u001b[0;34m:\u001b[0m\u001b[0;34m'no'\u001b[0m\u001b[0;34m}\u001b[0m\u001b[0;34m\u001b[0m\u001b[0;34m\u001b[0m\u001b[0m\n\u001b[0;32m----> 3\u001b[0;31m \u001b[0mclient\u001b[0m\u001b[0;34m.\u001b[0m\u001b[0mindex\u001b[0m\u001b[0;34m(\u001b[0m\u001b[0;34m'test'\u001b[0m\u001b[0;34m,\u001b[0m\u001b[0mdoc_type\u001b[0m\u001b[0;34m=\u001b[0m\u001b[0;34m'article'\u001b[0m\u001b[0;34m,\u001b[0m\u001b[0mbody\u001b[0m\u001b[0;34m=\u001b[0m\u001b[0mnewdoc\u001b[0m\u001b[0;34m)\u001b[0m\u001b[0;34m\u001b[0m\u001b[0;34m\u001b[0m\u001b[0m\n\u001b[0m",
      "\u001b[0;32m/usr/local/lib/python3.6/dist-packages/elasticsearch/client/utils.py\u001b[0m in \u001b[0;36m_wrapped\u001b[0;34m(*args, **kwargs)\u001b[0m\n\u001b[1;32m     74\u001b[0m                 \u001b[0;32mif\u001b[0m \u001b[0mp\u001b[0m \u001b[0;32min\u001b[0m \u001b[0mkwargs\u001b[0m\u001b[0;34m:\u001b[0m\u001b[0;34m\u001b[0m\u001b[0;34m\u001b[0m\u001b[0m\n\u001b[1;32m     75\u001b[0m                     \u001b[0mparams\u001b[0m\u001b[0;34m[\u001b[0m\u001b[0mp\u001b[0m\u001b[0;34m]\u001b[0m \u001b[0;34m=\u001b[0m \u001b[0mkwargs\u001b[0m\u001b[0;34m.\u001b[0m\u001b[0mpop\u001b[0m\u001b[0;34m(\u001b[0m\u001b[0mp\u001b[0m\u001b[0;34m)\u001b[0m\u001b[0;34m\u001b[0m\u001b[0;34m\u001b[0m\u001b[0m\n\u001b[0;32m---> 76\u001b[0;31m             \u001b[0;32mreturn\u001b[0m \u001b[0mfunc\u001b[0m\u001b[0;34m(\u001b[0m\u001b[0;34m*\u001b[0m\u001b[0margs\u001b[0m\u001b[0;34m,\u001b[0m \u001b[0mparams\u001b[0m\u001b[0;34m=\u001b[0m\u001b[0mparams\u001b[0m\u001b[0;34m,\u001b[0m \u001b[0;34m**\u001b[0m\u001b[0mkwargs\u001b[0m\u001b[0;34m)\u001b[0m\u001b[0;34m\u001b[0m\u001b[0;34m\u001b[0m\u001b[0m\n\u001b[0m\u001b[1;32m     77\u001b[0m         \u001b[0;32mreturn\u001b[0m \u001b[0m_wrapped\u001b[0m\u001b[0;34m\u001b[0m\u001b[0;34m\u001b[0m\u001b[0m\n\u001b[1;32m     78\u001b[0m     \u001b[0;32mreturn\u001b[0m \u001b[0m_wrapper\u001b[0m\u001b[0;34m\u001b[0m\u001b[0;34m\u001b[0m\u001b[0m\n",
      "\u001b[0;32m/usr/local/lib/python3.6/dist-packages/elasticsearch/client/__init__.py\u001b[0m in \u001b[0;36mindex\u001b[0;34m(self, index, doc_type, body, id, params)\u001b[0m\n\u001b[1;32m    317\u001b[0m                 \u001b[0;32mraise\u001b[0m \u001b[0mValueError\u001b[0m\u001b[0;34m(\u001b[0m\u001b[0;34m\"Empty value passed for a required argument.\"\u001b[0m\u001b[0;34m)\u001b[0m\u001b[0;34m\u001b[0m\u001b[0;34m\u001b[0m\u001b[0m\n\u001b[1;32m    318\u001b[0m         return self.transport.perform_request('POST' if id in SKIP_IN_PATH else 'PUT',\n\u001b[0;32m--> 319\u001b[0;31m             _make_path(index, doc_type, id), params=params, body=body)\n\u001b[0m\u001b[1;32m    320\u001b[0m \u001b[0;34m\u001b[0m\u001b[0m\n\u001b[1;32m    321\u001b[0m     @query_params('_source', '_source_exclude', '_source_include', 'parent',\n",
      "\u001b[0;32m/usr/local/lib/python3.6/dist-packages/elasticsearch/transport.py\u001b[0m in \u001b[0;36mperform_request\u001b[0;34m(self, method, url, headers, params, body)\u001b[0m\n\u001b[1;32m    316\u001b[0m                 \u001b[0mdelay\u001b[0m \u001b[0;34m=\u001b[0m \u001b[0;36m2\u001b[0m\u001b[0;34m**\u001b[0m\u001b[0mattempt\u001b[0m \u001b[0;34m-\u001b[0m \u001b[0;36m1\u001b[0m\u001b[0;34m\u001b[0m\u001b[0;34m\u001b[0m\u001b[0m\n\u001b[1;32m    317\u001b[0m                 \u001b[0mtime\u001b[0m\u001b[0;34m.\u001b[0m\u001b[0msleep\u001b[0m\u001b[0;34m(\u001b[0m\u001b[0mdelay\u001b[0m\u001b[0;34m)\u001b[0m\u001b[0;34m\u001b[0m\u001b[0;34m\u001b[0m\u001b[0m\n\u001b[0;32m--> 318\u001b[0;31m                 \u001b[0mstatus\u001b[0m\u001b[0;34m,\u001b[0m \u001b[0mheaders_response\u001b[0m\u001b[0;34m,\u001b[0m \u001b[0mdata\u001b[0m \u001b[0;34m=\u001b[0m \u001b[0mconnection\u001b[0m\u001b[0;34m.\u001b[0m\u001b[0mperform_request\u001b[0m\u001b[0;34m(\u001b[0m\u001b[0mmethod\u001b[0m\u001b[0;34m,\u001b[0m \u001b[0murl\u001b[0m\u001b[0;34m,\u001b[0m \u001b[0mparams\u001b[0m\u001b[0;34m,\u001b[0m \u001b[0mbody\u001b[0m\u001b[0;34m,\u001b[0m \u001b[0mheaders\u001b[0m\u001b[0;34m=\u001b[0m\u001b[0mheaders\u001b[0m\u001b[0;34m,\u001b[0m \u001b[0mignore\u001b[0m\u001b[0;34m=\u001b[0m\u001b[0mignore\u001b[0m\u001b[0;34m,\u001b[0m \u001b[0mtimeout\u001b[0m\u001b[0;34m=\u001b[0m\u001b[0mtimeout\u001b[0m\u001b[0;34m)\u001b[0m\u001b[0;34m\u001b[0m\u001b[0;34m\u001b[0m\u001b[0m\n\u001b[0m\u001b[1;32m    319\u001b[0m \u001b[0;34m\u001b[0m\u001b[0m\n\u001b[1;32m    320\u001b[0m             \u001b[0;32mexcept\u001b[0m \u001b[0mTransportError\u001b[0m \u001b[0;32mas\u001b[0m \u001b[0me\u001b[0m\u001b[0;34m:\u001b[0m\u001b[0;34m\u001b[0m\u001b[0;34m\u001b[0m\u001b[0m\n",
      "\u001b[0;32m/usr/local/lib/python3.6/dist-packages/elasticsearch/connection/http_urllib3.py\u001b[0m in \u001b[0;36mperform_request\u001b[0;34m(self, method, url, params, body, timeout, ignore, headers)\u001b[0m\n\u001b[1;32m    184\u001b[0m         \u001b[0;32mif\u001b[0m \u001b[0;32mnot\u001b[0m \u001b[0;34m(\u001b[0m\u001b[0;36m200\u001b[0m \u001b[0;34m<=\u001b[0m \u001b[0mresponse\u001b[0m\u001b[0;34m.\u001b[0m\u001b[0mstatus\u001b[0m \u001b[0;34m<\u001b[0m \u001b[0;36m300\u001b[0m\u001b[0;34m)\u001b[0m \u001b[0;32mand\u001b[0m \u001b[0mresponse\u001b[0m\u001b[0;34m.\u001b[0m\u001b[0mstatus\u001b[0m \u001b[0;32mnot\u001b[0m \u001b[0;32min\u001b[0m \u001b[0mignore\u001b[0m\u001b[0;34m:\u001b[0m\u001b[0;34m\u001b[0m\u001b[0;34m\u001b[0m\u001b[0m\n\u001b[1;32m    185\u001b[0m             \u001b[0mself\u001b[0m\u001b[0;34m.\u001b[0m\u001b[0mlog_request_fail\u001b[0m\u001b[0;34m(\u001b[0m\u001b[0mmethod\u001b[0m\u001b[0;34m,\u001b[0m \u001b[0mfull_url\u001b[0m\u001b[0;34m,\u001b[0m \u001b[0murl\u001b[0m\u001b[0;34m,\u001b[0m \u001b[0mbody\u001b[0m\u001b[0;34m,\u001b[0m \u001b[0mduration\u001b[0m\u001b[0;34m,\u001b[0m \u001b[0mresponse\u001b[0m\u001b[0;34m.\u001b[0m\u001b[0mstatus\u001b[0m\u001b[0;34m,\u001b[0m \u001b[0mraw_data\u001b[0m\u001b[0;34m)\u001b[0m\u001b[0;34m\u001b[0m\u001b[0;34m\u001b[0m\u001b[0m\n\u001b[0;32m--> 186\u001b[0;31m             \u001b[0mself\u001b[0m\u001b[0;34m.\u001b[0m\u001b[0m_raise_error\u001b[0m\u001b[0;34m(\u001b[0m\u001b[0mresponse\u001b[0m\u001b[0;34m.\u001b[0m\u001b[0mstatus\u001b[0m\u001b[0;34m,\u001b[0m \u001b[0mraw_data\u001b[0m\u001b[0;34m)\u001b[0m\u001b[0;34m\u001b[0m\u001b[0;34m\u001b[0m\u001b[0m\n\u001b[0m\u001b[1;32m    187\u001b[0m \u001b[0;34m\u001b[0m\u001b[0m\n\u001b[1;32m    188\u001b[0m         self.log_request_success(method, full_url, url, body, response.status,\n",
      "\u001b[0;32m/usr/local/lib/python3.6/dist-packages/elasticsearch/connection/base.py\u001b[0m in \u001b[0;36m_raise_error\u001b[0;34m(self, status_code, raw_data)\u001b[0m\n\u001b[1;32m    123\u001b[0m             \u001b[0mlogger\u001b[0m\u001b[0;34m.\u001b[0m\u001b[0mwarning\u001b[0m\u001b[0;34m(\u001b[0m\u001b[0;34m'Undecodable raw error response from server: %s'\u001b[0m\u001b[0;34m,\u001b[0m \u001b[0merr\u001b[0m\u001b[0;34m)\u001b[0m\u001b[0;34m\u001b[0m\u001b[0;34m\u001b[0m\u001b[0m\n\u001b[1;32m    124\u001b[0m \u001b[0;34m\u001b[0m\u001b[0m\n\u001b[0;32m--> 125\u001b[0;31m         \u001b[0;32mraise\u001b[0m \u001b[0mHTTP_EXCEPTIONS\u001b[0m\u001b[0;34m.\u001b[0m\u001b[0mget\u001b[0m\u001b[0;34m(\u001b[0m\u001b[0mstatus_code\u001b[0m\u001b[0;34m,\u001b[0m \u001b[0mTransportError\u001b[0m\u001b[0;34m)\u001b[0m\u001b[0;34m(\u001b[0m\u001b[0mstatus_code\u001b[0m\u001b[0;34m,\u001b[0m \u001b[0merror_message\u001b[0m\u001b[0;34m,\u001b[0m \u001b[0madditional_info\u001b[0m\u001b[0;34m)\u001b[0m\u001b[0;34m\u001b[0m\u001b[0;34m\u001b[0m\u001b[0m\n\u001b[0m\u001b[1;32m    126\u001b[0m \u001b[0;34m\u001b[0m\u001b[0m\n\u001b[1;32m    127\u001b[0m \u001b[0;34m\u001b[0m\u001b[0m\n",
      "\u001b[0;31mRequestError\u001b[0m: RequestError(400, 'mapper_parsing_exception', 'failed to parse field [shared] of type [long]')"
     ]
    }
   ],
   "source": [
    "# this will fail...\n",
    "newdoc = {'title': 'Tekjkje kklegjekjgekjg', 'shared':'no'}\n",
    "client.index('test',doc_type='article',body=newdoc)"
   ]
  },
  {
   "cell_type": "code",
   "execution_count": 40,
   "metadata": {},
   "outputs": [
    {
     "data": {
      "text/plain": [
       "{'_id': 'GsLoW2cBYLprx5XowGoI',\n",
       " '_index': 'test',\n",
       " '_primary_term': 1,\n",
       " '_seq_no': 0,\n",
       " '_shards': {'failed': 0, 'successful': 1, 'total': 2},\n",
       " '_type': 'article',\n",
       " '_version': 1,\n",
       " 'result': 'created'}"
      ]
     },
     "execution_count": 40,
     "metadata": {},
     "output_type": "execute_result"
    }
   ],
   "source": [
    "# but this works (b/c '99' can be converted to an int)\n",
    "newdoc = {'title': 'Tekjkje kklegjekjgekjg', 'shared':'99'}\n",
    "client.index('test',doc_type='article',body=newdoc)"
   ]
  },
  {
   "cell_type": "markdown",
   "metadata": {},
   "source": [
    "What happened?\n",
    "\n",
    "Well, once a new key is added for the first time, ES determines a data type (string, int, ...). That's less strict than, for instance, in MySQL (you don't need to know the maximum number of characters etc.), and there is a lot of under-the-hood conversion going on (that's why the last example worked) -- but if some key is expected to contain an int, you can't throw some random text in there.\n",
    "\n",
    "The upside of this behavior is that it makes it possible to insert new keys that were unknown before - and ES doesn't complain. The downside is that the first doc inserted that has the key 'claims' the data type. (I can tell a long debugging story here...\n",
    "\n",
    "We can therefore *when creating the index* optionally specify rules on which keys should map to which data type (and analyzers...)"
   ]
  },
  {
   "cell_type": "code",
   "execution_count": 78,
   "metadata": {},
   "outputs": [
    {
     "data": {
      "text/plain": [
       "{'mappings': {'doc': {'dynamic_templates': [{'id': {'mapping': {'type': 'keyword'},\n",
       "      'match': 'id',\n",
       "      'match_mapping_type': 'string'}},\n",
       "    {'es': {'mapping': {'analyzer': 'spanish', 'type': 'text'},\n",
       "      'match': '*_es',\n",
       "      'match_mapping_type': 'string'}},\n",
       "    {'nl': {'mapping': {'analyzer': 'dutch', 'type': 'text'},\n",
       "      'match': '*_nl',\n",
       "      'match_mapping_type': 'string'}},\n",
       "    {'raw': {'mapping': {'type': 'text'},\n",
       "      'match': '*_raw',\n",
       "      'match_mapping_type': 'string'}},\n",
       "    {'en': {'mapping': {'analyzer': 'english', 'type': 'text'},\n",
       "      'match': '*_en',\n",
       "      'match_mapping_type': 'string'}},\n",
       "    {'default': {'mapping': {'fields': {'exact': {'analyzer': 'whitespace',\n",
       "         'type': 'text'}},\n",
       "       'filter': ['stop'],\n",
       "       'type': 'text'},\n",
       "      'match': '*',\n",
       "      'match_mapping_type': 'string'}}],\n",
       "   'properties': {'doctype': {'type': 'keyword'},\n",
       "    'functiontype': {'type': 'keyword'},\n",
       "    'id': {'type': 'keyword'},\n",
       "    'source': {'type': 'keyword'},\n",
       "    'url': {'type': 'keyword'}}}},\n",
       " 'settings': {'mapping.total_fields.limit': 20000}}"
      ]
     },
     "execution_count": 78,
     "metadata": {},
     "output_type": "execute_result"
    }
   ],
   "source": [
    "schema = json.load(open('schema.json'))\n",
    "schema"
   ]
  },
  {
   "cell_type": "code",
   "execution_count": 82,
   "metadata": {},
   "outputs": [
    {
     "data": {
      "text/plain": [
       "{'acknowledged': True, 'index': 'test2', 'shards_acknowledged': True}"
      ]
     },
     "execution_count": 82,
     "metadata": {},
     "output_type": "execute_result"
    }
   ],
   "source": [
    "client.indices.create(\"test2\", body=schema)"
   ]
  },
  {
   "cell_type": "markdown",
   "metadata": {},
   "source": [
    "Some additional elements of the schema:\n",
    "\n",
    "- analyzers (for full text queries)\n",
    "- type 'text' vs type 'keyword' \n",
    "- possibility of having multiple fields\n",
    "\n",
    "The last one is interesting. If we would have used the schema above for our test document, we can - next to searching for some search string in the field `text` (where standard analysis (e.g., stemming) is performed, also search in the automatically created (!) and hidden field `text.exact` to use a minimal analyzer that only splits on whitespace and does little else. That's for instance important for case-sensitive search."
   ]
  },
  {
   "cell_type": "markdown",
   "metadata": {},
   "source": [
    "## Querying\n",
    "\n",
    "I'll be honest - writing ES queries is not really simple. The most user-friendly way is probably the `query string syntax` (see https://www.elastic.co/guide/en/elasticsearch/reference/current/query-dsl-query-string-query.html). This allows you to formulate your query as a string. Which can be easier than constructing nested dicts as for instance outlined here: https://www.elastic.co/guide/en/elasticsearch/reference/current/query-filter-context.html\n",
    "\n",
    "It will take some time to look everything up in the documentation, but you'll get used to it."
   ]
  },
  {
   "cell_type": "code",
   "execution_count": 76,
   "metadata": {},
   "outputs": [
    {
     "data": {
      "text/plain": [
       "{'_shards': {'failed': 0, 'skipped': 0, 'successful': 5, 'total': 5},\n",
       " 'hits': {'hits': [], 'max_score': None, 'total': 0},\n",
       " 'timed_out': False,\n",
       " 'took': 33}"
      ]
     },
     "execution_count": 76,
     "metadata": {},
     "output_type": "execute_result"
    }
   ],
   "source": [
    "query = 'title:Shorty AND shared: >2'   # change to <2 to make it work ;-)\n",
    "es_query = {\"query\":{\"bool\":{\"must\":{\"query_string\":{\"query\":query}}}}}\n",
    "\n",
    "r = client.search(index='test', body=es_query)\n",
    "r"
   ]
  },
  {
   "cell_type": "code",
   "execution_count": 57,
   "metadata": {},
   "outputs": [
    {
     "data": {
      "text/plain": [
       "{'_shards': {'failed': 0, 'skipped': 0, 'successful': 5, 'total': 5},\n",
       " 'hits': {'hits': [{'_id': 'FcLmW2cBYLprx5Xon2pe',\n",
       "    '_index': 'test',\n",
       "    '_score': 0.2876821,\n",
       "    '_source': {'is_paywalled': True,\n",
       "     'text': 'Another text, well we know how this looks like',\n",
       "     'title': 'it has a title too'},\n",
       "    '_type': 'article'}],\n",
       "  'max_score': 0.2876821,\n",
       "  'total': 1},\n",
       " 'timed_out': False,\n",
       " 'took': 27}"
      ]
     },
     "execution_count": 57,
     "metadata": {},
     "output_type": "execute_result"
    }
   ],
   "source": [
    "client.search(index='test',body= {'query': {\n",
    "            'match': {\n",
    "                 'is_paywalled':True\n",
    "            }}})"
   ]
  },
  {
   "cell_type": "markdown",
   "metadata": {},
   "source": [
    "see docs for more\n",
    "\n",
    "https://www.elastic.co/guide/en/elasticsearch/reference/current/query-dsl-query-string-query.html"
   ]
  },
  {
   "cell_type": "markdown",
   "metadata": {},
   "source": [
    "## Aggregations\n",
    "\n",
    "Example from our project"
   ]
  },
  {
   "cell_type": "code",
   "execution_count": 85,
   "metadata": {},
   "outputs": [
    {
     "ename": "NameError",
     "evalue": "name 'q' is not defined",
     "output_type": "error",
     "traceback": [
      "\u001b[0;31m---------------------------------------------------------------------------\u001b[0m",
      "\u001b[0;31mNameError\u001b[0m                                 Traceback (most recent call last)",
      "\u001b[0;32m<ipython-input-85-fcaeef4411ef>\u001b[0m in \u001b[0;36m<module>\u001b[0;34m()\u001b[0m\n\u001b[1;32m      3\u001b[0m \u001b[0;31m# granuarity = 'month', 'day', ...\u001b[0m\u001b[0;34m\u001b[0m\u001b[0;34m\u001b[0m\u001b[0;34m\u001b[0m\u001b[0m\n\u001b[1;32m      4\u001b[0m \u001b[0;34m\u001b[0m\u001b[0m\n\u001b[0;32m----> 5\u001b[0;31m elastic_query = {'query':{\"bool\": { 'must': [ {'query_string':{'query':q}}]}},\n\u001b[0m\u001b[1;32m      6\u001b[0m                              'aggs':{'timeline' : {\"date_histogram\": {\n\u001b[1;32m      7\u001b[0m                                  \u001b[0;34m\"field\"\u001b[0m\u001b[0;34m:\u001b[0m\u001b[0mtimefield\u001b[0m\u001b[0;34m,\u001b[0m\u001b[0;34m\u001b[0m\u001b[0;34m\u001b[0m\u001b[0m\n",
      "\u001b[0;31mNameError\u001b[0m: name 'q' is not defined"
     ]
    }
   ],
   "source": [
    "# q = some string query\n",
    "# timefield = key of time variabke\n",
    "# granuarity = 'month', 'day', ...\n",
    "\n",
    "elastic_query = {'query':{\"bool\": { 'must': [ {'query_string':{'query':q}}]}},\n",
    "                             'aggs':{'timeline' : {\"date_histogram\": {\n",
    "                                 \"field\":timefield,\n",
    "                                 \"interval\":granularity\n",
    "} }}}"
   ]
  },
  {
   "cell_type": "markdown",
   "metadata": {},
   "source": [
    "## some scratch\n",
    "useful snippets"
   ]
  },
  {
   "cell_type": "markdown",
   "metadata": {},
   "source": [
    "### Scroll queries"
   ]
  },
  {
   "cell_type": "code",
   "execution_count": null,
   "metadata": {},
   "outputs": [],
   "source": [
    "from elasticsearch import helpers\n",
    "from tqdm import tqdm\n",
    "\n",
    "total = client.search(index = elastic_index, body=query)['hits']['total']\n",
    "for doc in tqdm(helpers.scan(client, index = elastic_index, query=query, scroll=scroll_time), total = total):\n",
    "    yield doc"
   ]
  },
  {
   "cell_type": "markdown",
   "metadata": {},
   "source": [
    "### Updating"
   ]
  },
  {
   "cell_type": "code",
   "execution_count": 94,
   "metadata": {},
   "outputs": [],
   "source": [
    "old = client.search(index='test')['hits']['hits'][0]"
   ]
  },
  {
   "cell_type": "code",
   "execution_count": 95,
   "metadata": {},
   "outputs": [
    {
     "data": {
      "text/plain": [
       "{'_id': 'FsLmW2cBYLprx5Xon2qV',\n",
       " '_index': 'test',\n",
       " '_score': 1.0,\n",
       " '_source': {'shared': 1, 'title': 'Shorty'},\n",
       " '_type': 'article'}"
      ]
     },
     "execution_count": 95,
     "metadata": {},
     "output_type": "execute_result"
    }
   ],
   "source": [
    "old"
   ]
  },
  {
   "cell_type": "code",
   "execution_count": 100,
   "metadata": {},
   "outputs": [
    {
     "data": {
      "text/plain": [
       "{'_id': 'FsLmW2cBYLprx5Xon2qV',\n",
       " '_index': 'test',\n",
       " '_primary_term': 1,\n",
       " '_seq_no': 2,\n",
       " '_shards': {'failed': 0, 'successful': 1, 'total': 2},\n",
       " '_type': 'article',\n",
       " '_version': 2,\n",
       " 'result': 'updated'}"
      ]
     },
     "execution_count": 100,
     "metadata": {},
     "output_type": "execute_result"
    }
   ],
   "source": [
    "new = old.copy()\n",
    "new['_source']['text']='Text we forgot'\n",
    "\n",
    "client.update(index='test',\n",
    "              id=new['_id'],\n",
    "              doc_type=new['_type'],\n",
    "              body={'doc':new['_source']})"
   ]
  },
  {
   "cell_type": "code",
   "execution_count": 87,
   "metadata": {},
   "outputs": [
    {
     "ename": "SyntaxError",
     "evalue": "unexpected EOF while parsing (<ipython-input-87-5119f6593704>, line 4)",
     "output_type": "error",
     "traceback": [
      "\u001b[0;36m  File \u001b[0;32m\"<ipython-input-87-5119f6593704>\"\u001b[0;36m, line \u001b[0;32m4\u001b[0m\n\u001b[0;31m    body={'doc':document['_source']}\u001b[0m\n\u001b[0m                                    ^\u001b[0m\n\u001b[0;31mSyntaxError\u001b[0m\u001b[0;31m:\u001b[0m unexpected EOF while parsing\n"
     ]
    }
   ],
   "source": []
  }
 ],
 "metadata": {
  "kernelspec": {
   "display_name": "Python 3",
   "language": "python",
   "name": "python3"
  },
  "language_info": {
   "codemirror_mode": {
    "name": "ipython",
    "version": 3
   },
   "file_extension": ".py",
   "mimetype": "text/x-python",
   "name": "python",
   "nbconvert_exporter": "python",
   "pygments_lexer": "ipython3",
   "version": "3.6.7"
  }
 },
 "nbformat": 4,
 "nbformat_minor": 2
}
