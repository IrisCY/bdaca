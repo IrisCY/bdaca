{
 "cells": [
  {
   "cell_type": "markdown",
   "metadata": {},
   "source": [
    "# Innovating Journalism\n",
    "## Practical Python exercise 1: Getting started with Jupyter Notebooks\n",
    "\n",
    "*Damian Trilling and Penny Sheets*\n",
    "\n",
    "This notebook is meant to show you what you can do with a jupyer Notebook. Feel free to play around!"
   ]
  },
  {
   "cell_type": "markdown",
   "metadata": {},
   "source": [
    "## Downloading this notebook from github\n",
    "\n",
    "You can find this file on github. Github is a very popular platform to share code and it has a central role in open-source software development and in open science. People who want to make their data analyses transparent usually share there code here.\n",
    "\n",
    "Usually, people *clone* or maybe download whole repositories (projects) from github, but if you just want to have a single file (such as this one), then you can get it as follows:\n",
    "\n",
    "1. Click on the file to view it on Github.\n",
    "2. Click on the \"Raw\" button in the upper right corner\n",
    "3. Depending on your system, the file either downloads directly or you see the raw computer code behind this. That's fine, just click on \"File/save as\" in your browser.\n",
    "4. It is *very important* that you do *not* choose 'HTML', 'web page' or something similar in Save-as-dialogue. Choose \"All files (\\*.\\*)\" or similar as file type, and make sure that the filename ends in \".ipynb\".\n",
    "5. Open the downloaded file in Jupyer Notebook on your computer."
   ]
  },
  {
   "cell_type": "markdown",
   "metadata": {},
   "source": [
    "## Cell types\n",
    "\n",
    "There are different types of cells: Code cells and Markdown cells (there are two more, but they are not necessary). Markdown cells contain text, code cells, well, code. You can edit a cell by double-clicking on it. To 'run' the cell (in the case of markdown, to format it), press CTRL-Enter. \n",
    "\n",
    "Try it out!\n",
    "\n",
    "If you want to know more about formatting with markdown, have a look at \n",
    "https://guides.github.com/features/mastering-markdown/"
   ]
  },
  {
   "cell_type": "markdown",
   "metadata": {},
   "source": [
    "## Running Python code in Jupyer\n",
    "\n",
    "You can insert arbitrary Python code into a code cell and run it by pressing CTRL-Enter. Let's try to do print something..."
   ]
  },
  {
   "cell_type": "code",
   "execution_count": null,
   "metadata": {
    "collapsed": false
   },
   "outputs": [],
   "source": [
    "print('Hello world')"
   ]
  },
  {
   "cell_type": "markdown",
   "metadata": {},
   "source": [
    "... or do a simple calculation:"
   ]
  },
  {
   "cell_type": "code",
   "execution_count": null,
   "metadata": {
    "collapsed": false
   },
   "outputs": [],
   "source": [
    "a = 5\n",
    "b = 10\n",
    "c = a + b\n",
    "print(c)"
   ]
  },
  {
   "cell_type": "markdown",
   "metadata": {},
   "source": [
    "We can also import modules...."
   ]
  },
  {
   "cell_type": "code",
   "execution_count": null,
   "metadata": {
    "collapsed": false
   },
   "outputs": [],
   "source": [
    "import pandas as pd"
   ]
  },
  {
   "cell_type": "markdown",
   "metadata": {},
   "source": [
    "... and download a dataset from the web, view it, and give it's descriptive statistics."
   ]
  },
  {
   "cell_type": "code",
   "execution_count": null,
   "metadata": {
    "collapsed": false
   },
   "outputs": [],
   "source": [
    "iris = pd.read_csv('https://raw.githubusercontent.com/mwaskom/seaborn-data/master/iris.csv')\n",
    "iris"
   ]
  },
  {
   "cell_type": "code",
   "execution_count": null,
   "metadata": {
    "collapsed": false
   },
   "outputs": [],
   "source": [
    "iris.describe()"
   ]
  },
  {
   "cell_type": "markdown",
   "metadata": {},
   "source": [
    "# You see...\n",
    "\n",
    "It's actually not that difficult. And it is a great think that we have code, results, and explanation in one single file! We are looking forward to exploring the possibilities of Jupyter Notebook, Python, and Pandas with you in the next weeks!\n",
    "\n",
    "Penny and Damian"
   ]
  }
 ],
 "metadata": {
  "kernelspec": {
   "display_name": "Python 3",
   "language": "python",
   "name": "python3"
  },
  "language_info": {
   "codemirror_mode": {
    "name": "ipython",
    "version": 3
   },
   "file_extension": ".py",
   "mimetype": "text/x-python",
   "name": "python",
   "nbconvert_exporter": "python",
   "pygments_lexer": "ipython3",
   "version": "3.4.3"
  }
 },
 "nbformat": 4,
 "nbformat_minor": 0
}
